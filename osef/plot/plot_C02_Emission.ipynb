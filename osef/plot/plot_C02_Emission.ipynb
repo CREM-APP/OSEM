{
 "cells": [
  {
   "cell_type": "markdown",
   "metadata": {},
   "source": [
    " # C02 emissions from different heating technology - Plot\n",
    "------------------------------------------------------------------------------------------------"
   ]
  },
  {
   "cell_type": "markdown",
   "metadata": {},
   "source": [
    "\n",
    "## Read me\n",
    "\n",
    "This notebook creates a basis for plotting C02 emissions from the kbob that can be modified based on current needs.\n",
    "\n",
    "The input is the useful energy consumed in the study area by different technology for all scenarios in kWh. The data can contained in a csv or a excel file. In both cases, the data forms a tabular with the following columns: scenario, year, technology 1, technology 2, technology 3...  The technology are the technology available in the kbob.\n",
    "\n",
    "Name must be given in english. Fuzzy matching is used to find the selected technology.\n",
    "\n",
    "### Example Data (in kWh)\n",
    "\n",
    "| Scenario | Year  | Boiler Oil  | Boiler Gas   | Air-Water Heat pump  |\n",
    "|------|------|------|------|------|\n",
    "|   BAU | 2000| 1345| 1345|0|\n",
    "|   BAU | 2025| 1545| 1545|0|\n",
    "|   BAU | 2000| 1645| 1645|0|\n",
    "|  sce 1 | 2000| 0| 1345|1345|\n",
    "|  sce 1| 2025| 0| 1545|1545|\n",
    "|  sce 1 | 2000|0| 1645|1645|\n",
    "|  sce 2 | 2000| 1000| 1045|645|\n",
    "|  sce 2| 2025| 1000| 1345|745|\n",
    "|  sce 2 | 2000|1000| 1445|845|\n",
    "\n"
   ]
  },
  {
   "cell_type": "markdown",
   "metadata": {},
   "source": [
    "## Input"
   ]
  },
  {
   "cell_type": "code",
   "execution_count": 3,
   "metadata": {
    "collapsed": true
   },
   "outputs": [],
   "source": [
    "\n",
    "# name of the file and plot (with the correct path!)\n",
    "filename = ''\n",
    "plot_filename = ''\n",
    "area_name = 'my example'"
   ]
  },
  {
   "cell_type": "markdown",
   "metadata": {},
   "source": [
    "## Load data and compute C02 emission"
   ]
  },
  {
   "cell_type": "code",
   "execution_count": 5,
   "metadata": {},
   "outputs": [
    {
     "ename": "ModuleNotFoundError",
     "evalue": "No module named 'osef'",
     "output_type": "error",
     "traceback": [
      "\u001b[1;31m---------------------------------------------------------------------------\u001b[0m",
      "\u001b[1;31mModuleNotFoundError\u001b[0m                       Traceback (most recent call last)",
      "\u001b[1;32m<ipython-input-5-0dfef6f562f8>\u001b[0m in \u001b[0;36m<module>\u001b[1;34m()\u001b[0m\n\u001b[0;32m      1\u001b[0m \u001b[1;32mimport\u001b[0m \u001b[0mpandas\u001b[0m \u001b[1;32mas\u001b[0m \u001b[0mpd\u001b[0m\u001b[1;33m\u001b[0m\u001b[0m\n\u001b[0;32m      2\u001b[0m \u001b[1;32mimport\u001b[0m \u001b[0mos\u001b[0m\u001b[1;33m\u001b[0m\u001b[0m\n\u001b[1;32m----> 3\u001b[1;33m \u001b[1;32mimport\u001b[0m \u001b[0mosef\u001b[0m\u001b[1;33m\u001b[0m\u001b[0m\n\u001b[0m\u001b[0;32m      4\u001b[0m \u001b[1;33m\u001b[0m\u001b[0m\n\u001b[0;32m      5\u001b[0m \u001b[1;32mif\u001b[0m \u001b[1;34m'xls'\u001b[0m \u001b[1;32min\u001b[0m \u001b[0mos\u001b[0m\u001b[1;33m.\u001b[0m\u001b[0mpath\u001b[0m\u001b[1;33m.\u001b[0m\u001b[0msplitext\u001b[0m\u001b[1;33m(\u001b[0m\u001b[0mfilename\u001b[0m\u001b[1;33m)\u001b[0m\u001b[1;33m[\u001b[0m\u001b[1;36m1\u001b[0m\u001b[1;33m]\u001b[0m\u001b[1;33m:\u001b[0m\u001b[1;33m\u001b[0m\u001b[0m\n",
      "\u001b[1;31mModuleNotFoundError\u001b[0m: No module named 'osef'"
     ]
    }
   ],
   "source": [
    "import pandas as pd\n",
    "import os\n",
    "import osef\n",
    "\n",
    "if 'xls' in os.path.splitext(filename)[1]:\n",
    "    data = pd.read_excel(filename)\n",
    "else:\n",
    "    data = pd.read_csv(filename)\n",
    "    \n",
    "c02emission = kpi.compute_c02(data)/1000 # kg to tons\n",
    "scenarios =  c02emission['scenarios'].unique()\n",
    "years =  c02emission['years'].unique()\n"
   ]
  },
  {
   "cell_type": "markdown",
   "metadata": {},
   "source": [
    "## Options for the plot"
   ]
  },
  {
   "cell_type": "code",
   "execution_count": null,
   "metadata": {
    "collapsed": true
   },
   "outputs": [],
   "source": [
    "width = 0.3\n",
    "color = ['b','r', 'g'] * len(scenarios)  # one color by scenarios\n",
    "fontsize = 12"
   ]
  },
  {
   "cell_type": "markdown",
   "metadata": {},
   "source": [
    "## Do the plot and save it"
   ]
  },
  {
   "cell_type": "code",
   "execution_count": null,
   "metadata": {
    "collapsed": true
   },
   "outputs": [],
   "source": [
    "import matplotlib.pyplot as plt\n",
    "plt.rcParams.update({'font.size': 22})\n",
    "\n",
    "plt.figure()\n",
    "plt.title('Co2 emission in ' + area_name)\n",
    "plt.xlabel('')\n",
    "for i, sce in enumerate(scenarios):\n",
    "    plt.bar(range(len(year) + width, data.iloc[data['scenario'] == sce, 2:],color[i], label=sce)\n",
    "    plt.xtick(range(len(year) + width, [str(y) for y in years])\n",
    "plt.xlabel('Time [Years]')\n",
    "plt.ylabel('Co2 emission [Tons]')\n",
    "plt.legend()    \n",
    "plt.show()\n",
    "plt.savefig(figname)"
   ]
  }
 ],
 "metadata": {
  "kernelspec": {
   "display_name": "Python 3",
   "language": "python",
   "name": "python3"
  },
  "language_info": {
   "codemirror_mode": {
    "name": "ipython",
    "version": 3
   },
   "file_extension": ".py",
   "mimetype": "text/x-python",
   "name": "python",
   "nbconvert_exporter": "python",
   "pygments_lexer": "ipython3",
   "version": "3.6.3"
  }
 },
 "nbformat": 4,
 "nbformat_minor": 2
}
