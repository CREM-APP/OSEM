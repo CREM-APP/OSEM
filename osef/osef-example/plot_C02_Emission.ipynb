{
 "cells": [
  {
   "cell_type": "markdown",
   "metadata": {},
   "source": [
    " # C02 emissions from different heating technology - Plot\n",
    "------------------------------------------------------------------------------------------------"
   ]
  },
  {
   "cell_type": "markdown",
   "metadata": {},
   "source": [
    "\n",
    "## Read me\n",
    "\n",
    "This notebook creates a basis for plotting C02 emissions from the kbob that can be modified based on current needs.\n",
    "\n",
    "The input is the useful energy consumed in the study area by different technology for all scenarios in kWh. The data can contained in a csv or a excel file. In both cases, the data forms a tabular with the following columns: scenario, year, technology 1, technology 2, technology 3...  The technology are the technology available in the kbob.\n",
    "\n",
    "Name must be given in english. Fuzzy matching is used to find the selected technology.\n",
    "\n",
    "### Example Data (in kWh)\n",
    "\n",
    "| Scenario | Year  | Boiler Oil  | Boiler Gas   | Air-Water Heat pump  |\n",
    "|------|------|------|------|------|\n",
    "|   BAU | 2000| 1345| 1345|0|\n",
    "|   BAU | 2025| 1545| 1545|0|\n",
    "|   BAU | 2000| 1645| 1645|0|\n",
    "|  sce 1 | 2000| 0| 1345|1345|\n",
    "|  sce 1| 2025| 0| 1545|1545|\n",
    "|  sce 1 | 2000|0| 1645|1645|\n",
    "|  sce 2 | 2000| 1000| 1045|645|\n",
    "|  sce 2| 2025| 1000| 1345|745|\n",
    "|  sce 2 | 2000|1000| 1445|845|\n",
    "\n"
   ]
  },
  {
   "cell_type": "markdown",
   "metadata": {},
   "source": [
    "## Input"
   ]
  },
  {
   "cell_type": "code",
   "execution_count": 1,
   "metadata": {},
   "outputs": [],
   "source": [
    "\n",
    "# name of the file and plot (with the correct path!)\n",
    "filename = 'data_example/kpi_example_c02.xlsx'\n",
    "plot_filename = 'my_plot.png'"
   ]
  },
  {
   "cell_type": "markdown",
   "metadata": {},
   "source": [
    "## Load the modules"
   ]
  },
  {
   "cell_type": "code",
   "execution_count": 2,
   "metadata": {},
   "outputs": [],
   "source": [
    "import pandas as pd\n",
    "import numpy as np\n",
    "import os\n",
    "import sys\n",
    "\n",
    "# when git repository public\n",
    "# !pip install git+..\n",
    "\n",
    "# actuellement\n",
    "nb_dir = os.path.split(os.path.split(os.getcwd())[0])\n",
    "if nb_dir not in sys.path:\n",
    "    sys.path.append(nb_dir)\n",
    "from osef.plot import plot_kpi"
   ]
  },
  {
   "cell_type": "markdown",
   "metadata": {},
   "source": [
    "## Load data"
   ]
  },
  {
   "cell_type": "code",
   "execution_count": 3,
   "metadata": {},
   "outputs": [
    {
     "name": "stdout",
     "output_type": "stream",
     "text": [
      "  scenarios  years  boiler oil  boiler gas  air-water heat pump\n",
      "0       BAU   2015       322.0       498.0                 0.00\n",
      "1       BAU   2025       354.2       547.8                 0.00\n",
      "2       BAU   2050       386.4       597.6                 0.00\n",
      "3      sce1   2015         0.0       249.0               125.60\n",
      "4      sce1   2025         0.0       273.9               138.16\n",
      "5      sce1   2050         0.0       298.8               150.72\n",
      "6      sce2   2015       322.0         0.0               125.60\n",
      "7      sce2   2025       354.2         0.0               138.16\n",
      "8      sce2   2050       386.4         0.0               150.72\n"
     ]
    }
   ],
   "source": [
    "# load excel or csv\n",
    "if 'xls' in os.path.splitext(filename)[1]:\n",
    "    data = pd.read_excel(filename)\n",
    "else:\n",
    "    data = pd.read_csv(filename)\n",
    "    "
   ]
  },
  {
   "cell_type": "markdown",
   "metadata": {},
   "source": [
    "## Options for the plot"
   ]
  },
  {
   "cell_type": "code",
   "execution_count": 18,
   "metadata": {},
   "outputs": [],
   "source": [
    "width = 0.22\n",
    "fontsize = 10\n",
    "color = ['rosybrown', 'firebrick', 'darksalmon']\n",
    "title_name = 'CO$_{2}$ emission'\n",
    "xlabel = 'Time [years]'"
   ]
  },
  {
   "cell_type": "markdown",
   "metadata": {},
   "source": [
    "## Do the plot and save it"
   ]
  },
  {
   "cell_type": "code",
   "execution_count": 19,
   "metadata": {},
   "outputs": [
    {
     "data": {
      "image/png": "[encoded data removed]",
      "text/plain": [
       "<Figure size 576x576 with 2 Axes>"
      ]
     },
     "metadata": {
      "needs_background": "light"
     },
     "output_type": "display_data"
    }
   ],
   "source": [
    "plot_kpi.plot_c02(co2emission, plot_filename, title_name=title_name, xlabel=xlabel, ylabel=ylabel, width=width, show=True, color=color)"
   ]
  },
  {
   "cell_type": "code",
   "execution_count": null,
   "metadata": {},
   "outputs": [],
   "source": []
  },
  {
   "cell_type": "code",
   "execution_count": null,
   "metadata": {},
   "outputs": [],
   "source": []
  }
 ],
 "metadata": {
  "kernelspec": {
   "display_name": "Python 3",
   "language": "python",
   "name": "python3"
  },
  "language_info": {
   "codemirror_mode": {
    "name": "ipython",
    "version": 3
   },
   "file_extension": ".py",
   "mimetype": "text/x-python",
   "name": "python",
   "nbconvert_exporter": "python",
   "pygments_lexer": "ipython3",
   "version": "3.6.3"
  }
 },
 "nbformat": 4,
 "nbformat_minor": 2
}
