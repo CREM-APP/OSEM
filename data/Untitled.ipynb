{
 "cells": [
  {
   "cell_type": "code",
   "execution_count": 28,
   "metadata": {},
   "outputs": [
    {
     "data": {
      "text/plain": [
       "['.ipynb_checkpoints',\n",
       " 'kbob_xls_to_csv.py',\n",
       " 'Liste Oekobilanzdaten im Baubereich 2009-1-2016-gerundet-kWh.xlsx',\n",
       " 'Untitled.ipynb',\n",
       " '~$Liste Oekobilanzdaten im Baubereich 2009-1-2016-gerundet-kWh.xlsx']"
      ]
     },
     "execution_count": 28,
     "metadata": {},
     "output_type": "execute_result"
    }
   ],
   "source": [
    "import os\n",
    "import pandas as pd\n",
    "\n",
    "os.listdir()"
   ]
  },
  {
   "cell_type": "code",
   "execution_count": 29,
   "metadata": {},
   "outputs": [
    {
     "data": {
      "text/html": [
       "<div>\n",
       "<style>\n",
       "    .dataframe thead tr:only-child th {\n",
       "        text-align: right;\n",
       "    }\n",
       "\n",
       "    .dataframe thead th {\n",
       "        text-align: left;\n",
       "    }\n",
       "\n",
       "    .dataframe tbody tr th {\n",
       "        vertical-align: top;\n",
       "    }\n",
       "</style>\n",
       "<table border=\"1\" class=\"dataframe\">\n",
       "  <thead>\n",
       "    <tr style=\"text-align: right;\">\n",
       "      <th></th>\n",
       "      <th>LCA_UB</th>\n",
       "      <th>EP_Global</th>\n",
       "      <th>EP_Renew</th>\n",
       "      <th>EP_Nonrenew</th>\n",
       "      <th>EP_Renew_Onsite</th>\n",
       "      <th>CO2</th>\n",
       "    </tr>\n",
       "    <tr>\n",
       "      <th>Unnamed: 11</th>\n",
       "      <th></th>\n",
       "      <th></th>\n",
       "      <th></th>\n",
       "      <th></th>\n",
       "      <th></th>\n",
       "      <th></th>\n",
       "    </tr>\n",
       "  </thead>\n",
       "  <tbody>\n",
       "    <tr>\n",
       "      <th>Mazout EL</th>\n",
       "      <td>234.0</td>\n",
       "      <td>1.24</td>\n",
       "      <td>0.00902</td>\n",
       "      <td>1.23</td>\n",
       "      <td>0.0</td>\n",
       "      <td>0.301</td>\n",
       "    </tr>\n",
       "    <tr>\n",
       "      <th>Gaz naturel</th>\n",
       "      <td>137.0</td>\n",
       "      <td>1.07</td>\n",
       "      <td>0.00447</td>\n",
       "      <td>1.06</td>\n",
       "      <td>0.0</td>\n",
       "      <td>0.228</td>\n",
       "    </tr>\n",
       "    <tr>\n",
       "      <th>Propane/butane</th>\n",
       "      <td>200.0</td>\n",
       "      <td>1.16</td>\n",
       "      <td>0.00841</td>\n",
       "      <td>1.15</td>\n",
       "      <td>0.0</td>\n",
       "      <td>0.273</td>\n",
       "    </tr>\n",
       "    <tr>\n",
       "      <th>Coke de houille</th>\n",
       "      <td>477.0</td>\n",
       "      <td>1.47</td>\n",
       "      <td>0.01320</td>\n",
       "      <td>1.45</td>\n",
       "      <td>0.0</td>\n",
       "      <td>0.439</td>\n",
       "    </tr>\n",
       "    <tr>\n",
       "      <th>Briquette de houille</th>\n",
       "      <td>456.0</td>\n",
       "      <td>1.20</td>\n",
       "      <td>0.00831</td>\n",
       "      <td>1.20</td>\n",
       "      <td>0.0</td>\n",
       "      <td>0.399</td>\n",
       "    </tr>\n",
       "  </tbody>\n",
       "</table>\n",
       "</div>"
      ],
      "text/plain": [
       "                      LCA_UB  EP_Global  EP_Renew  EP_Nonrenew  \\\n",
       "Unnamed: 11                                                      \n",
       "Mazout EL              234.0       1.24   0.00902         1.23   \n",
       "Gaz naturel            137.0       1.07   0.00447         1.06   \n",
       "Propane/butane         200.0       1.16   0.00841         1.15   \n",
       "Coke de houille        477.0       1.47   0.01320         1.45   \n",
       "Briquette de houille   456.0       1.20   0.00831         1.20   \n",
       "\n",
       "                      EP_Renew_Onsite    CO2  \n",
       "Unnamed: 11                                   \n",
       "Mazout EL                         0.0  0.301  \n",
       "Gaz naturel                       0.0  0.228  \n",
       "Propane/butane                    0.0  0.273  \n",
       "Coke de houille                   0.0  0.439  \n",
       "Briquette de houille              0.0  0.399  "
      ]
     },
     "execution_count": 29,
     "metadata": {},
     "output_type": "execute_result"
    }
   ],
   "source": [
    "df = pd.read_excel(\"Liste Oekobilanzdaten im Baubereich 2009-1-2016-gerundet-kWh.xlsx\", \n",
    "                   sheetname=\"Energie Energie\", \n",
    "                   skiprows=6, \n",
    "                   usecols=[4, 5, 6, 7, 8, 9, 11])\n",
    "df.dropna(inplace=True)\n",
    "df.set_index(\"Unnamed: 11\", inplace=True)\n",
    "column_name = ['LCA_UB', 'EP_Global', 'EP_Renew','EP_Nonrenew', 'EP_Renew_Onsite', 'CO2']\n",
    "df.columns=column_name\n",
    "df.head()\n"
   ]
  },
  {
   "cell_type": "code",
   "execution_count": 30,
   "metadata": {},
   "outputs": [
    {
     "data": {
      "text/plain": [
       "{'CO2': 'kg_CO2_/_kWh_ef',\n",
       " 'EP_Global': 'kWh_oil_eq',\n",
       " 'EP_Nonrenew': 'kWh_oil_eq',\n",
       " 'EP_Renew': 'kWh_oil_eq',\n",
       " 'EP_Renew_Onsite': 'kWh_oil_eq',\n",
       " 'LCA_UB': 'UBP'}"
      ]
     },
     "execution_count": 30,
     "metadata": {},
     "output_type": "execute_result"
    }
   ],
   "source": [
    "# dict to get unity\n",
    "\n",
    "units = [\"UBP\", \"kWh_oil_eq\", \"kWh_oil_eq\", \"kWh_oil_eq\", \"kWh_oil_eq\", \"kg_CO2_/_kWh_ef\"]\n",
    "UNITS = {c: u for c, u in zip(column_name, units)}\n",
    "UNITS"
   ]
  },
  {
   "cell_type": "code",
   "execution_count": 41,
   "metadata": {},
   "outputs": [
    {
     "data": {
      "text/plain": [
       "['Bûches de bois', 'Particules de bois']"
      ]
     },
     "execution_count": 41,
     "metadata": {},
     "output_type": "execute_result"
    }
   ],
   "source": [
    "import difflib\n",
    "difflib.get_close_matches('bois', df.index, cutoff=0.3)"
   ]
  },
  {
   "cell_type": "code",
   "execution_count": 50,
   "metadata": {
    "collapsed": true
   },
   "outputs": [],
   "source": [
    "def get_value(kw, col, return_name=False):\n",
    "    new_kw = difflib.get_close_matches(kw, df.index, cutoff=0.3)[0]\n",
    "    new_col = difflib.get_close_matches(col, df.columns, cutoff=0.3)[0]\n",
    "    if return_name:\n",
    "        return df.loc[new_kw,new_col], (new_kw, new_col)\n",
    "    else:\n",
    "         return df.loc[new_kw,new_col]"
   ]
  },
  {
   "cell_type": "code",
   "execution_count": 51,
   "metadata": {},
   "outputs": [
    {
     "data": {
      "text/plain": [
       "0.99399999999999999"
      ]
     },
     "execution_count": 51,
     "metadata": {},
     "output_type": "execute_result"
    }
   ],
   "source": [
    "get_value('bois','Renew')"
   ]
  },
  {
   "cell_type": "code",
   "execution_count": null,
   "metadata": {
    "collapsed": true
   },
   "outputs": [],
   "source": []
  }
 ],
 "metadata": {
  "kernelspec": {
   "display_name": "Python 3",
   "language": "python",
   "name": "python3"
  },
  "language_info": {
   "codemirror_mode": {
    "name": "ipython",
    "version": 3
   },
   "file_extension": ".py",
   "mimetype": "text/x-python",
   "name": "python",
   "nbconvert_exporter": "python",
   "pygments_lexer": "ipython3",
   "version": "3.6.3"
  }
 },
 "nbformat": 4,
 "nbformat_minor": 2
}
